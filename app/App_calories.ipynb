{
 "cells": [
  {
   "cell_type": "code",
   "execution_count": 26,
   "metadata": {},
   "outputs": [
    {
     "name": "stdout",
     "output_type": "stream",
     "text": [
      "Collecting streamlit\n",
      "  Downloading https://files.pythonhosted.org/packages/21/ec/17f4b6be8c7d6412de5465e45e8e69ac60c877b5085f223cbc9c55821555/streamlit-1.10.0-py2.py3-none-any.whl (9.1MB)\n",
      "Collecting cachetools>=4.0 (from streamlit)\n",
      "  Using cached https://files.pythonhosted.org/packages/ea/c1/4740af52db75e6dbdd57fc7e9478439815bbac549c1c05881be27d19a17d/cachetools-4.2.4-py3-none-any.whl\n",
      "Requirement already satisfied: tornado>=5.0 in c:\\users\\teja\\anaconda3\\lib\\site-packages (from streamlit) (5.0.2)\n",
      "Requirement already satisfied: numpy in c:\\users\\teja\\anaconda3\\lib\\site-packages (from streamlit) (1.14.3)\n",
      "Requirement already satisfied: python-dateutil in c:\\users\\teja\\anaconda3\\lib\\site-packages (from streamlit) (2.7.3)\n",
      "Collecting tzlocal (from streamlit)\n",
      "  Downloading https://files.pythonhosted.org/packages/31/b7/3bc2c1868f27677139b772e4fde95265b93151912fd90eb874827943bfcf/tzlocal-4.2-py3-none-any.whl\n",
      "Collecting toml (from streamlit)\n",
      "  Downloading https://files.pythonhosted.org/packages/44/6f/7120676b6d73228c96e17f1f794d8ab046fc910d781c8d151120c3f1569e/toml-0.10.2-py2.py3-none-any.whl\n",
      "Collecting rich (from streamlit)\n",
      "  Downloading https://files.pythonhosted.org/packages/32/60/81ac2e7d1e3b861ab478a72e3b20fc91c4302acd2274822e493758941829/rich-12.6.0-py3-none-any.whl (237kB)\n",
      "Requirement already satisfied: requests in c:\\users\\teja\\anaconda3\\lib\\site-packages (from streamlit) (2.18.4)\n",
      "Collecting pympler>=0.9 (from streamlit)\n",
      "  Downloading https://files.pythonhosted.org/packages/79/4f/a6a2e2b202d7fd97eadfe90979845b8706676b41cbd3b42ba75adf329d1f/Pympler-1.1-py3-none-any.whl (165kB)\n",
      "Collecting watchdog; platform_system != \"Darwin\" (from streamlit)\n",
      "  Downloading https://files.pythonhosted.org/packages/c6/b4/5b4a76b566d1e55a1b90b183775e8b502fe0aefb076128778843f223e392/watchdog-2.3.1-py3-none-win_amd64.whl (80kB)\n",
      "Collecting protobuf<4,>=3.12 (from streamlit)\n",
      "  Using cached https://files.pythonhosted.org/packages/98/f4/b21be85a824309351356c9a229cf9614d521620e26202a36d5fff2353c37/protobuf-3.19.6-cp36-cp36m-win_amd64.whl\n",
      "Collecting pyarrow (from streamlit)\n",
      "  Downloading https://files.pythonhosted.org/packages/57/ec/cb1115c8fabc0e5403db2033f1ea36c438ce19db9a7c0a3e8f4955eadb2d/pyarrow-6.0.1-cp36-cp36m-win_amd64.whl (15.4MB)\n",
      "Collecting typing-extensions (from streamlit)\n",
      "  Using cached https://files.pythonhosted.org/packages/45/6b/44f7f8f1e110027cf88956b59f2fad776cca7e1704396d043f89effd3a0e/typing_extensions-4.1.1-py3-none-any.whl\n",
      "Requirement already satisfied: packaging in c:\\users\\teja\\anaconda3\\lib\\site-packages (from streamlit) (17.1)\n",
      "Collecting semver (from streamlit)\n",
      "  Downloading https://files.pythonhosted.org/packages/0b/70/b84f9944a03964a88031ef6ac219b6c91e8ba2f373362329d8770ef36f02/semver-2.13.0-py2.py3-none-any.whl\n",
      "Requirement already satisfied: attrs in c:\\users\\teja\\anaconda3\\lib\\site-packages (from streamlit) (18.1.0)\n",
      "Collecting click>=7.0 (from streamlit)\n",
      "  Downloading https://files.pythonhosted.org/packages/4a/a8/0b2ced25639fb20cc1c9784de90a8c25f9504a7f18cd8b5397bd61696d7d/click-8.0.4-py3-none-any.whl (97kB)\n",
      "Requirement already satisfied: pandas>=0.21.0 in c:\\users\\teja\\anaconda3\\lib\\site-packages (from streamlit) (0.23.0)\n",
      "Collecting blinker (from streamlit)\n",
      "  Downloading https://files.pythonhosted.org/packages/30/41/caa5da2dbe6d26029dfe11d31dfa8132b4d6d30b6d6b61a24824075a5f06/blinker-1.5-py2.py3-none-any.whl\n",
      "Collecting validators (from streamlit)\n",
      "  Downloading https://files.pythonhosted.org/packages/95/14/ed0af6865d378cfc3c504aed0d278a890cbefb2f1934bf2dbe92ecf9d6b1/validators-0.20.0.tar.gz\n",
      "Collecting gitpython!=3.1.19 (from streamlit)\n",
      "  Downloading https://files.pythonhosted.org/packages/55/60/f884f01eef2a7255875862ec1b12d57d74113ec6e8d9e16c4d254cd6aa3c/GitPython-3.1.20-py3-none-any.whl (178kB)\n",
      "Collecting altair>=3.2.0 (from streamlit)\n",
      "  Downloading https://files.pythonhosted.org/packages/01/55/0bb2226e34f21fa549c3f4557b4f154a5632f61132a969da17c95ca8eab9/altair-4.1.0-py3-none-any.whl (727kB)\n",
      "Collecting pillow>=6.2.0 (from streamlit)\n",
      "  Downloading https://files.pythonhosted.org/packages/8f/10/c8dc9fff37b69b5962b7783ab4835611e83dada453cd9913d82ca2a1321b/Pillow-8.4.0-cp36-cp36m-win_amd64.whl (3.2MB)\n",
      "Collecting pydeck>=0.1.dev5 (from streamlit)\n",
      "  Downloading https://files.pythonhosted.org/packages/d6/bc/f0e44828e4290367c869591d50d3671a4d0ee94926da6cb734b7b200308c/pydeck-0.6.2-py2.py3-none-any.whl (4.2MB)\n",
      "Collecting importlib-metadata>=1.4 (from streamlit)\n",
      "  Using cached https://files.pythonhosted.org/packages/a0/a1/b153a0a4caf7a7e3f15c2cd56c7702e2cf3d89b1b359d1f1c5e59d68f4ce/importlib_metadata-4.8.3-py3-none-any.whl\n",
      "Requirement already satisfied: six>=1.5 in c:\\users\\teja\\anaconda3\\lib\\site-packages (from python-dateutil->streamlit) (1.11.0)\n",
      "Collecting tzdata; platform_system == \"Windows\" (from tzlocal->streamlit)\n",
      "  Downloading https://files.pythonhosted.org/packages/a6/ab/7e5f53c3b9d14972843a647d8d7a853969a58aecc7559cb3267302c94774/tzdata-2024.2-py2.py3-none-any.whl (346kB)\n",
      "Collecting pytz-deprecation-shim (from tzlocal->streamlit)\n",
      "  Downloading https://files.pythonhosted.org/packages/eb/73/3eaab547ca809754e67e06871cff0fc962bafd4b604e15f31896a0f94431/pytz_deprecation_shim-0.1.0.post0-py2.py3-none-any.whl\n",
      "Collecting backports.zoneinfo; python_version < \"3.9\" (from tzlocal->streamlit)\n",
      "  Downloading https://files.pythonhosted.org/packages/28/d5/e2f3d6a52870045afd8c37b2681c47fd0b98679cd4851e349bfd7e19cfd7/backports.zoneinfo-0.2.1-cp36-cp36m-win_amd64.whl\n",
      "Collecting pygments<3.0.0,>=2.6.0 (from rich->streamlit)\n",
      "  Downloading https://files.pythonhosted.org/packages/0b/42/d9d95cc461f098f204cd20c85642ae40fbff81f74c300341b8d0e0df14e0/Pygments-2.14.0-py3-none-any.whl (1.1MB)\n",
      "Collecting commonmark<0.10.0,>=0.9.0 (from rich->streamlit)\n",
      "  Downloading https://files.pythonhosted.org/packages/b1/92/dfd892312d822f36c55366118b95d914e5f16de11044a27cf10a7d71bbbf/commonmark-0.9.1-py2.py3-none-any.whl (51kB)\n",
      "Collecting dataclasses<0.9,>=0.7; python_version < \"3.7\" (from rich->streamlit)\n",
      "  Using cached https://files.pythonhosted.org/packages/fe/ca/75fac5856ab5cfa51bbbcefa250182e50441074fdc3f803f6e76451fab43/dataclasses-0.8-py3-none-any.whl\n",
      "Requirement already satisfied: chardet<3.1.0,>=3.0.2 in c:\\users\\teja\\anaconda3\\lib\\site-packages (from requests->streamlit) (3.0.4)\n",
      "Requirement already satisfied: idna<2.7,>=2.5 in c:\\users\\teja\\anaconda3\\lib\\site-packages (from requests->streamlit) (2.6)\n",
      "Requirement already satisfied: urllib3<1.23,>=1.21.1 in c:\\users\\teja\\anaconda3\\lib\\site-packages (from requests->streamlit) (1.22)\n",
      "Requirement already satisfied: certifi>=2017.4.17 in c:\\users\\teja\\anaconda3\\lib\\site-packages (from requests->streamlit) (2018.4.16)\n",
      "Collecting pywin32>=226; platform_system == \"Windows\" (from pympler>=0.9->streamlit)\n",
      "  Downloading https://files.pythonhosted.org/packages/4b/af/7c7d46af6bf74a92ecaf674fe9f587912bd74a95eddd9304b4e16b37aa8b/pywin32-305-cp36-cp36m-win_amd64.whl (12.2MB)\n",
      "Requirement already satisfied: pyparsing>=2.0.2 in c:\\users\\teja\\anaconda3\\lib\\site-packages (from packaging->streamlit) (2.2.0)\n",
      "Requirement already satisfied: colorama; platform_system == \"Windows\" in c:\\users\\teja\\anaconda3\\lib\\site-packages (from click>=7.0->streamlit) (0.3.9)\n",
      "Requirement already satisfied: pytz>=2011k in c:\\users\\teja\\anaconda3\\lib\\site-packages (from pandas>=0.21.0->streamlit) (2018.4)\n",
      "Requirement already satisfied: decorator>=3.4.0 in c:\\users\\teja\\anaconda3\\lib\\site-packages (from validators->streamlit) (4.3.0)\n",
      "Collecting gitdb<5,>=4.0.1 (from gitpython!=3.1.19->streamlit)\n",
      "  Downloading https://files.pythonhosted.org/packages/a3/7c/5d747655049bfbf75b5fcec57c8115896cb78d6fafa84f6d3ef4c0f13a98/gitdb-4.0.9-py3-none-any.whl (63kB)\n",
      "Requirement already satisfied: jsonschema in c:\\users\\teja\\anaconda3\\lib\\site-packages (from altair>=3.2.0->streamlit) (2.6.0)\n",
      "Requirement already satisfied: jinja2 in c:\\users\\teja\\anaconda3\\lib\\site-packages (from altair>=3.2.0->streamlit) (2.10)\n",
      "Requirement already satisfied: toolz in c:\\users\\teja\\anaconda3\\lib\\site-packages (from altair>=3.2.0->streamlit) (0.9.0)\n",
      "Requirement already satisfied: entrypoints in c:\\users\\teja\\anaconda3\\lib\\site-packages (from altair>=3.2.0->streamlit) (0.2.3)\n",
      "Requirement already satisfied: ipywidgets>=7.0.0 in c:\\users\\teja\\anaconda3\\lib\\site-packages (from pydeck>=0.1.dev5->streamlit) (7.2.1)\n",
      "Collecting ipykernel>=5.1.2; python_version >= \"3.4\" (from pydeck>=0.1.dev5->streamlit)\n",
      "  Downloading https://files.pythonhosted.org/packages/e9/ad/9101e0ab5e84dd117462bb3a1379d31728a849b6886458452e3d97dc6bba/ipykernel-5.5.6-py3-none-any.whl (121kB)\n",
      "Requirement already satisfied: traitlets>=4.3.2 in c:\\users\\teja\\anaconda3\\lib\\site-packages (from pydeck>=0.1.dev5->streamlit) (4.3.2)\n",
      "Collecting zipp>=0.5 (from importlib-metadata>=1.4->streamlit)\n",
      "  Using cached https://files.pythonhosted.org/packages/bd/df/d4a4974a3e3957fd1c1fa3082366d7fff6e428ddb55f074bf64876f8e8ad/zipp-3.6.0-py3-none-any.whl\n",
      "Collecting importlib-resources; python_version < \"3.7\" (from backports.zoneinfo; python_version < \"3.9\"->tzlocal->streamlit)\n",
      "  Using cached https://files.pythonhosted.org/packages/24/1b/33e489669a94da3ef4562938cd306e8fa915e13939d7b8277cb5569cb405/importlib_resources-5.4.0-py3-none-any.whl\n",
      "Collecting smmap<6,>=3.0.1 (from gitdb<5,>=4.0.1->gitpython!=3.1.19->streamlit)\n",
      "  Downloading https://files.pythonhosted.org/packages/6d/01/7caa71608bc29952ae09b0be63a539e50d2484bc37747797a66a60679856/smmap-5.0.0-py3-none-any.whl\n",
      "Requirement already satisfied: MarkupSafe>=0.23 in c:\\users\\teja\\anaconda3\\lib\\site-packages (from jinja2->altair>=3.2.0->streamlit) (1.0)\n",
      "Requirement already satisfied: nbformat>=4.2.0 in c:\\users\\teja\\anaconda3\\lib\\site-packages (from ipywidgets>=7.0.0->pydeck>=0.1.dev5->streamlit) (4.4.0)\n",
      "Requirement already satisfied: widgetsnbextension~=3.2.0 in c:\\users\\teja\\anaconda3\\lib\\site-packages (from ipywidgets>=7.0.0->pydeck>=0.1.dev5->streamlit) (3.2.1)\n",
      "Requirement already satisfied: ipython>=4.0.0 in c:\\users\\teja\\anaconda3\\lib\\site-packages (from ipywidgets>=7.0.0->pydeck>=0.1.dev5->streamlit) (6.4.0)\n",
      "Requirement already satisfied: ipython-genutils in c:\\users\\teja\\anaconda3\\lib\\site-packages (from ipykernel>=5.1.2; python_version >= \"3.4\"->pydeck>=0.1.dev5->streamlit) (0.2.0)\n",
      "Requirement already satisfied: jupyter-client in c:\\users\\teja\\anaconda3\\lib\\site-packages (from ipykernel>=5.1.2; python_version >= \"3.4\"->pydeck>=0.1.dev5->streamlit) (5.2.3)\n",
      "Requirement already satisfied: jupyter_core in c:\\users\\teja\\anaconda3\\lib\\site-packages (from nbformat>=4.2.0->ipywidgets>=7.0.0->pydeck>=0.1.dev5->streamlit) (4.4.0)\n",
      "Requirement already satisfied: notebook>=4.4.1 in c:\\users\\teja\\anaconda3\\lib\\site-packages (from widgetsnbextension~=3.2.0->ipywidgets>=7.0.0->pydeck>=0.1.dev5->streamlit) (5.5.0)\n",
      "Requirement already satisfied: pickleshare in c:\\users\\teja\\anaconda3\\lib\\site-packages (from ipython>=4.0.0->ipywidgets>=7.0.0->pydeck>=0.1.dev5->streamlit) (0.7.4)\n",
      "Requirement already satisfied: prompt-toolkit<2.0.0,>=1.0.15 in c:\\users\\teja\\anaconda3\\lib\\site-packages (from ipython>=4.0.0->ipywidgets>=7.0.0->pydeck>=0.1.dev5->streamlit) (1.0.15)\n",
      "Requirement already satisfied: simplegeneric>0.8 in c:\\users\\teja\\anaconda3\\lib\\site-packages (from ipython>=4.0.0->ipywidgets>=7.0.0->pydeck>=0.1.dev5->streamlit) (0.8.1)\n",
      "Requirement already satisfied: setuptools>=18.5 in c:\\users\\teja\\anaconda3\\lib\\site-packages (from ipython>=4.0.0->ipywidgets>=7.0.0->pydeck>=0.1.dev5->streamlit) (39.1.0)\n",
      "Requirement already satisfied: jedi>=0.10 in c:\\users\\teja\\anaconda3\\lib\\site-packages (from ipython>=4.0.0->ipywidgets>=7.0.0->pydeck>=0.1.dev5->streamlit) (0.12.0)\n",
      "Requirement already satisfied: backcall in c:\\users\\teja\\anaconda3\\lib\\site-packages (from ipython>=4.0.0->ipywidgets>=7.0.0->pydeck>=0.1.dev5->streamlit) (0.1.0)\n",
      "Requirement already satisfied: pyzmq>=13 in c:\\users\\teja\\anaconda3\\lib\\site-packages (from jupyter-client->ipykernel>=5.1.2; python_version >= \"3.4\"->pydeck>=0.1.dev5->streamlit) (17.0.0)\n",
      "Requirement already satisfied: nbconvert in c:\\users\\teja\\anaconda3\\lib\\site-packages (from notebook>=4.4.1->widgetsnbextension~=3.2.0->ipywidgets>=7.0.0->pydeck>=0.1.dev5->streamlit) (5.3.1)\n",
      "Requirement already satisfied: Send2Trash in c:\\users\\teja\\anaconda3\\lib\\site-packages (from notebook>=4.4.1->widgetsnbextension~=3.2.0->ipywidgets>=7.0.0->pydeck>=0.1.dev5->streamlit) (1.5.0)\n",
      "Requirement already satisfied: terminado>=0.8.1 in c:\\users\\teja\\anaconda3\\lib\\site-packages (from notebook>=4.4.1->widgetsnbextension~=3.2.0->ipywidgets>=7.0.0->pydeck>=0.1.dev5->streamlit) (0.8.1)\n",
      "Requirement already satisfied: wcwidth in c:\\users\\teja\\anaconda3\\lib\\site-packages (from prompt-toolkit<2.0.0,>=1.0.15->ipython>=4.0.0->ipywidgets>=7.0.0->pydeck>=0.1.dev5->streamlit) (0.1.7)\n",
      "Requirement already satisfied: parso>=0.2.0 in c:\\users\\teja\\anaconda3\\lib\\site-packages (from jedi>=0.10->ipython>=4.0.0->ipywidgets>=7.0.0->pydeck>=0.1.dev5->streamlit) (0.2.0)\n",
      "Requirement already satisfied: mistune>=0.7.4 in c:\\users\\teja\\anaconda3\\lib\\site-packages (from nbconvert->notebook>=4.4.1->widgetsnbextension~=3.2.0->ipywidgets>=7.0.0->pydeck>=0.1.dev5->streamlit) (0.8.3)\n",
      "Requirement already satisfied: bleach in c:\\users\\teja\\anaconda3\\lib\\site-packages (from nbconvert->notebook>=4.4.1->widgetsnbextension~=3.2.0->ipywidgets>=7.0.0->pydeck>=0.1.dev5->streamlit) (2.1.3)\n",
      "Requirement already satisfied: pandocfilters>=1.4.1 in c:\\users\\teja\\anaconda3\\lib\\site-packages (from nbconvert->notebook>=4.4.1->widgetsnbextension~=3.2.0->ipywidgets>=7.0.0->pydeck>=0.1.dev5->streamlit) (1.4.2)\n",
      "Requirement already satisfied: testpath in c:\\users\\teja\\anaconda3\\lib\\site-packages (from nbconvert->notebook>=4.4.1->widgetsnbextension~=3.2.0->ipywidgets>=7.0.0->pydeck>=0.1.dev5->streamlit) (0.3.1)\n",
      "Requirement already satisfied: html5lib!=1.0b1,!=1.0b2,!=1.0b3,!=1.0b4,!=1.0b5,!=1.0b6,!=1.0b7,!=1.0b8,>=0.99999999pre in c:\\users\\teja\\anaconda3\\lib\\site-packages (from bleach->nbconvert->notebook>=4.4.1->widgetsnbextension~=3.2.0->ipywidgets>=7.0.0->pydeck>=0.1.dev5->streamlit) (1.0.1)\n",
      "Requirement already satisfied: webencodings in c:\\users\\teja\\anaconda3\\lib\\site-packages (from html5lib!=1.0b1,!=1.0b2,!=1.0b3,!=1.0b4,!=1.0b5,!=1.0b6,!=1.0b7,!=1.0b8,>=0.99999999pre->bleach->nbconvert->notebook>=4.4.1->widgetsnbextension~=3.2.0->ipywidgets>=7.0.0->pydeck>=0.1.dev5->streamlit) (0.5.1)\n",
      "Building wheels for collected packages: validators\n",
      "  Running setup.py bdist_wheel for validators: started\n",
      "  Running setup.py bdist_wheel for validators: finished with status 'done'\n",
      "  Stored in directory: C:\\Users\\teja\\AppData\\Local\\pip\\Cache\\wheels\\78\\02\\9b\\6792cb888287d119f314664ab5e7579eaff131cccf18815757\n",
      "Successfully built validators\n",
      "Installing collected packages: cachetools, tzdata, zipp, importlib-resources, backports.zoneinfo, pytz-deprecation-shim, tzlocal, toml, typing-extensions, pygments, commonmark, dataclasses, rich, pywin32, pympler, watchdog, protobuf, pyarrow, semver, importlib-metadata, click, blinker, validators, smmap, gitdb, gitpython, altair, pillow, ipykernel, pydeck, streamlit\n",
      "  Found existing installation: Pygments 2.2.0\n",
      "    Uninstalling Pygments-2.2.0:\n",
      "      Successfully uninstalled Pygments-2.2.0\n",
      "  Found existing installation: pywin32 223\n",
      "    Uninstalling pywin32-223:\n",
      "      Successfully uninstalled pywin32-223\n",
      "  Found existing installation: click 6.7\n",
      "    Uninstalling click-6.7:\n",
      "      Successfully uninstalled click-6.7\n",
      "  Found existing installation: Pillow 5.1.0\n",
      "    Uninstalling Pillow-5.1.0:\n",
      "      Successfully uninstalled Pillow-5.1.0\n",
      "  Found existing installation: ipykernel 4.8.2\n",
      "    Uninstalling ipykernel-4.8.2:\n",
      "      Successfully uninstalled ipykernel-4.8.2\n"
     ]
    },
    {
     "name": "stderr",
     "output_type": "stream",
     "text": [
      "distributed 1.21.8 requires msgpack, which is not installed.\n",
      "pyarrow 6.0.1 has requirement numpy>=1.16.6, but you'll have numpy 1.14.3 which is incompatible.\n",
      "pydeck 0.6.2 has requirement jinja2>=2.10.1, but you'll have jinja2 2.10 which is incompatible.\n",
      "pydeck 0.6.2 has requirement numpy>=1.16.4, but you'll have numpy 1.14.3 which is incompatible.\n",
      "Exception:\n",
      "Traceback (most recent call last):\n",
      "  File \"C:\\Users\\teja\\Anaconda3\\lib\\site-packages\\pip\\_internal\\basecommand.py\", line 228, in main\n",
      "    status = self.run(options, args)\n",
      "  File \"C:\\Users\\teja\\Anaconda3\\lib\\site-packages\\pip\\_internal\\commands\\install.py\", line 335, in run\n",
      "    use_user_site=options.use_user_site,\n",
      "  File \"C:\\Users\\teja\\Anaconda3\\lib\\site-packages\\pip\\_internal\\req\\__init__.py\", line 49, in install_given_reqs\n",
      "    **kwargs\n",
      "  File \"C:\\Users\\teja\\Anaconda3\\lib\\site-packages\\pip\\_internal\\req\\req_install.py\", line 748, in install\n",
      "    use_user_site=use_user_site, pycompile=pycompile,\n",
      "  File \"C:\\Users\\teja\\Anaconda3\\lib\\site-packages\\pip\\_internal\\req\\req_install.py\", line 961, in move_wheel_files\n",
      "    warn_script_location=warn_script_location,\n",
      "  File \"C:\\Users\\teja\\Anaconda3\\lib\\site-packages\\pip\\_internal\\wheel.py\", line 500, in move_wheel_files\n",
      "    for row in reader:\n",
      "  File \"C:\\Users\\teja\\Anaconda3\\lib\\encodings\\cp1252.py\", line 23, in decode\n",
      "    return codecs.charmap_decode(input,self.errors,decoding_table)[0]\n",
      "UnicodeDecodeError: 'charmap' codec can't decode byte 0x8d in position 977: character maps to <undefined>\n",
      "You are using pip version 10.0.1, however version 21.3.1 is available.\n",
      "You should consider upgrading via the 'python -m pip install --upgrade pip' command.\n"
     ]
    }
   ],
   "source": [
    "# !pip install streamlit"
   ]
  },
  {
   "cell_type": "code",
   "execution_count": 25,
   "metadata": {},
   "outputs": [
    {
     "name": "stdout",
     "output_type": "stream",
     "text": [
      "Requirement already satisfied: plotly in c:\\users\\teja\\anaconda3\\lib\\site-packages (5.18.0)\n",
      "Requirement already satisfied: packaging in c:\\users\\teja\\anaconda3\\lib\\site-packages (from plotly) (17.1)\n",
      "Requirement already satisfied: tenacity>=6.2.0 in c:\\users\\teja\\anaconda3\\lib\\site-packages (from plotly) (8.2.2)\n",
      "Requirement already satisfied: pyparsing>=2.0.2 in c:\\users\\teja\\anaconda3\\lib\\site-packages (from packaging->plotly) (2.2.0)\n",
      "Requirement already satisfied: six in c:\\users\\teja\\anaconda3\\lib\\site-packages (from packaging->plotly) (1.11.0)\n"
     ]
    },
    {
     "name": "stderr",
     "output_type": "stream",
     "text": [
      "distributed 1.21.8 requires msgpack, which is not installed.\n",
      "pydeck 0.6.2 has requirement jinja2>=2.10.1, but you'll have jinja2 2.10 which is incompatible.\n",
      "You are using pip version 10.0.1, however version 21.3.1 is available.\n",
      "You should consider upgrading via the 'python -m pip install --upgrade pip' command.\n"
     ]
    }
   ],
   "source": [
    "# !pip install plotly\n"
   ]
  },
  {
   "cell_type": "code",
   "execution_count": 1,
   "metadata": {},
   "outputs": [
    {
     "name": "stderr",
     "output_type": "stream",
     "text": [
      "2024-11-09 20:47:18.874 \n",
      "  \u001b[33m\u001b[1mWarning:\u001b[0m to view this Streamlit app on a browser, run it with the following\n",
      "  command:\n",
      "\n",
      "    streamlit run C:\\Users\\teja\\Anaconda3\\lib\\site-packages\\ipykernel_launcher.py [ARGUMENTS]\n"
     ]
    }
   ],
   "source": [
    "import streamlit as st\n",
    "import numpy as np\n",
    "import matplotlib.pyplot as plt\n",
    "import seaborn as sn\n",
    "import pandas as pd\n",
    "from sklearn.model_selection import train_test_split\n",
    "from sklearn.metrics import mean_squared_error\n",
    "from sklearn.linear_model import LinearRegression\n",
    "from sklearn.ensemble import RandomForestRegressor\n",
    "from sklearn import metrics\n",
    "import time\n",
    "\n",
    "from matplotlib import style\n",
    "style.use(\"seaborn\")\n",
    "import plotly.express as px\n",
    "\n",
    "import warnings\n",
    "warnings.filterwarnings('ignore')\n",
    "\n",
    "st.write(\"## Calories burned Prediction\")\n",
    "st.image(\"https://assets.considerable.com/wp-content/uploads/2019/07/03093250/ExerciseRegimenPano.jpg\" , use_column_width=True)\n",
    "st.write(\"In this WebApp you will be able to observe your predicted calories burned in your body.Only thing you have to do is pass your parameters such as `Age` , `Gender` , `BMI` , etc into this WebApp and then you will be able to see the predicted value of kilocalories that burned in your body.\")\n",
    "\n",
    "\n",
    "st.sidebar.header(\"User Input Parameters : \")\n",
    "\n",
    "def user_input_features():\n",
    "    global age , bmi , duration , heart_rate , body_temp\n",
    "    age = st.sidebar.slider(\"Age : \" , 10 , 100 , 30)\n",
    "    bmi = st.sidebar.slider(\"BMI : \" , 15 , 40 , 20)\n",
    "    duration = st.sidebar.slider(\"Duration (min) : \" , 0 , 35 , 15)\n",
    "    heart_rate = st.sidebar.slider(\"Heart Rate : \" , 60 , 130 , 80)\n",
    "    body_temp = st.sidebar.slider(\"Body Temperature (C) : \" , 36 , 42 , 38)\n",
    "    gender_button = st.sidebar.radio(\"Gender : \", (\"Male\" , \"Female\"))\n",
    "\n",
    "    if gender_button == \"Male\":\n",
    "        gender = 1\n",
    "    else:\n",
    "        gender = 0\n",
    "\n",
    "    data = {\n",
    "    \"age\" : age,\n",
    "    \"bmi\" : bmi,\n",
    "    \"duration\" : duration,\n",
    "    \"heart_rate\" : heart_rate,\n",
    "    \"body_temp\" : body_temp,\n",
    "    \"gender\" : [\"Male\" if gender_button == \"Male\" else \"Female\"]\n",
    "    }\n",
    "\n",
    "    data_model = {\n",
    "    \"age\" : age,\n",
    "    \"bmi\" : bmi,\n",
    "    \"duration\" : duration,\n",
    "    \"heart_rate\" : heart_rate,\n",
    "    \"body_temp\" : body_temp,\n",
    "    \"gender\" : gender\n",
    "    }\n",
    "\n",
    "    features = pd.DataFrame(data_model, index=[0])\n",
    "    data = pd.DataFrame(data, index=[0])\n",
    "    return features , data\n",
    "\n",
    "df , data = user_input_features()\n",
    "\n",
    "st.write(\"---\")\n",
    "st.header(\"Your Parameters : \")\n",
    "latest_iteration = st.empty()\n",
    "bar = st.progress(0)\n",
    "for i in range(100):\n",
    "  # Update the progress bar with each iteration\n",
    "  bar.progress(i + 1)\n",
    "  time.sleep(0.01)\n",
    "st.write(data)\n",
    "\n",
    "calories = pd.read_csv(\"C:/Users/teja/Desktop/Data 606/calories.csv\")\n",
    "exercise = pd.read_csv(\"C:/Users/teja/Desktop/Data 606/exercise.csv\")\n",
    "\n",
    "exercise_df = exercise.merge(calories , on = \"User_ID\")\n",
    "# st.write(exercise_df.head())\n",
    "exercise_df.drop(columns = \"User_ID\" , inplace = True)\n",
    "\n",
    "exercise_train_data , exercise_test_data = train_test_split(exercise_df , test_size = 0.2 , random_state = 1)\n",
    "\n",
    "for data in [exercise_train_data , exercise_test_data]:         # adding BMI column to both training and test sets\n",
    "    data[\"BMI\"] = data[\"Weight\"] / ((data[\"Height\"] / 100) ** 2)\n",
    "    data[\"BMI\"] = round(data[\"BMI\"] , 2)\n",
    "\n",
    "exercise_train_data = exercise_train_data[[\"Gender\" , \"Age\" , \"BMI\" , \"Duration\" , \"Heart_Rate\" , \"Body_Temp\" , \"Calories\"]]\n",
    "exercise_test_data = exercise_test_data[[\"Gender\" , \"Age\" , \"BMI\"  , \"Duration\" , \"Heart_Rate\" , \"Body_Temp\" , \"Calories\"]]\n",
    "exercise_train_data = pd.get_dummies(exercise_train_data, drop_first = True)\n",
    "exercise_test_data = pd.get_dummies(exercise_test_data, drop_first = True)\n",
    "\n",
    "X_train = exercise_train_data.drop(\"Calories\" , axis = 1)\n",
    "y_train = exercise_train_data[\"Calories\"]\n",
    "\n",
    "X_test = exercise_test_data.drop(\"Calories\" , axis = 1)\n",
    "y_test = exercise_test_data[\"Calories\"]\n",
    "\n",
    "random_reg = RandomForestRegressor(n_estimators = 1000 , max_features = 3 , max_depth = 6)\n",
    "random_reg.fit(X_train , y_train)\n",
    "random_reg_prediction = random_reg.predict(X_test)\n",
    "\n",
    "#st.write(\"RandomForest Mean Absolute Error(MAE) : \" , round(metrics.mean_absolute_error(y_test , random_reg_prediction) , 2))\n",
    "#st.write(\"RandomForest Mean Squared Error(MSE) : \" , round(metrics.mean_squared_error(y_test , random_reg_prediction) , 2))\n",
    "#st.write(\"RandomForest Root Mean Squared Error(RMSE) : \" , round(np.sqrt(metrics.mean_squared_error(y_test , random_reg_prediction)) , 2))\n",
    "prediction = random_reg.predict(df)\n",
    "\n",
    "st.write(\"---\")\n",
    "st.header(\"Prediction : \")\n",
    "latest_iteration = st.empty()\n",
    "bar = st.progress(0)\n",
    "for i in range(100):\n",
    "  # Update the progress bar with each iteration\n",
    "  bar.progress(i + 1)\n",
    "  time.sleep(0.01)\n",
    "\n",
    "st.write(round(prediction[0] , 2) , \"   **kilocalories**\")\n",
    "\n",
    "st.write(\"---\")\n",
    "st.header(\"Similar Results : \")\n",
    "latest_iteration = st.empty()\n",
    "bar = st.progress(0)\n",
    "for i in range(100):\n",
    "  # Update the progress bar with each iteration\n",
    "  bar.progress(i + 1)\n",
    "  time.sleep(0.01)\n",
    "\n",
    "# range = [prediction[0] - 10 , prediction[0] + 10]\n",
    "prediction_range = [prediction[0] - 10 , prediction[0] + 10]\n",
    "ds = exercise_df[(exercise_df[\"Calories\"] >= prediction_range[0]) & (exercise_df[\"Calories\"] <= prediction_range[-1])]\n",
    "\n",
    "# ds = exercise_df[(exercise_df[\"Calories\"] >= range[0]) & (exercise_df[\"Calories\"] <= range[-1])]\n",
    "st.write(ds.sample(5))\n",
    "\n",
    "st.write(\"---\")\n",
    "st.header(\"General Information : \")\n",
    "\n",
    "boolean_age = (exercise_df[\"Age\"] < age).tolist()\n",
    "boolean_duration = (exercise_df[\"Duration\"] < duration).tolist()\n",
    "boolean_body_temp = (exercise_df[\"Body_Temp\"] < body_temp).tolist()\n",
    "boolean_heart_rate= (exercise_df[\"Heart_Rate\"] < heart_rate).tolist()\n",
    "\n",
    "st.write(\"You are older than %\" , round(sum(boolean_age) / len(boolean_age) , 2) * 100 , \"of other people.\")\n",
    "st.write(\"Your had higher exercise duration than %\" , round(sum(boolean_duration) / len(boolean_duration) , 2) * 100 , \"of other people.\")\n",
    "st.write(\"You had more heart rate than %\" , round(sum(boolean_heart_rate) / len(boolean_heart_rate) , 2) * 100 , \"of other people during exercise.\")\n",
    "st.write(\"You had higher body temperature  than %\" , round(sum(boolean_body_temp) / len(boolean_body_temp) , 2) * 100 , \"of other people during exercise.\")"
   ]
  },
  {
   "cell_type": "code",
   "execution_count": 24,
   "metadata": {},
   "outputs": [
    {
     "ename": "SyntaxError",
     "evalue": "invalid syntax (<ipython-input-24-4fc95ed9e262>, line 1)",
     "output_type": "error",
     "traceback": [
      "\u001b[1;36m  File \u001b[1;32m\"<ipython-input-24-4fc95ed9e262>\"\u001b[1;36m, line \u001b[1;32m1\u001b[0m\n\u001b[1;33m    streamlit run C:\\Users\\teja\\Anaconda3\\lib\\site-packages\\ipykernel_launcher.py\u001b[0m\n\u001b[1;37m                ^\u001b[0m\n\u001b[1;31mSyntaxError\u001b[0m\u001b[1;31m:\u001b[0m invalid syntax\n"
     ]
    }
   ],
   "source": [
    "# streamlit run C:\\Users\\teja\\Anaconda3\\lib\\site-packages\\ipykernel_launcher.py"
   ]
  },
  {
   "cell_type": "code",
   "execution_count": 28,
   "metadata": {},
   "outputs": [
    {
     "name": "stdout",
     "output_type": "stream",
     "text": [
      "Collecting numpy\n",
      "  Using cached https://files.pythonhosted.org/packages/ea/bc/da526221bc111857c7ef39c3af670bbcf5e69c247b0d22e51986f6d0c5c2/numpy-1.19.5-cp36-cp36m-win_amd64.whl\n",
      "Installing collected packages: numpy\n",
      "  Found existing installation: numpy 1.14.3\n",
      "    Uninstalling numpy-1.14.3:\n",
      "      Successfully uninstalled numpy-1.14.3\n",
      "Successfully installed numpy-1.19.5\n"
     ]
    },
    {
     "name": "stderr",
     "output_type": "stream",
     "text": [
      "distributed 1.21.8 requires msgpack, which is not installed.\n",
      "pydeck 0.6.2 has requirement jinja2>=2.10.1, but you'll have jinja2 2.10 which is incompatible.\n",
      "You are using pip version 10.0.1, however version 21.3.1 is available.\n",
      "You should consider upgrading via the 'python -m pip install --upgrade pip' command.\n"
     ]
    }
   ],
   "source": [
    "# !pip install --upgrade numpy\n"
   ]
  },
  {
   "cell_type": "code",
   "execution_count": 31,
   "metadata": {},
   "outputs": [
    {
     "name": "stderr",
     "output_type": "stream",
     "text": [
      "ERROR: To modify pip, please run the following command:\n",
      "C:\\Users\\teja\\Anaconda3\\python.exe -m pip install --upgrade pip\n",
      "You are using pip version 10.0.1, however version 21.3.1 is available.\n",
      "You should consider upgrading via the 'python -m pip install --upgrade pip' command.\n"
     ]
    }
   ],
   "source": [
    "# !pip install --upgrade pip"
   ]
  },
  {
   "cell_type": "code",
   "execution_count": 29,
   "metadata": {},
   "outputs": [
    {
     "name": "stdout",
     "output_type": "stream",
     "text": [
      "Collecting pyarrow\n",
      "  Using cached https://files.pythonhosted.org/packages/57/ec/cb1115c8fabc0e5403db2033f1ea36c438ce19db9a7c0a3e8f4955eadb2d/pyarrow-6.0.1-cp36-cp36m-win_amd64.whl\n",
      "Collecting numpy>=1.16.6 (from pyarrow)\n",
      "  Using cached https://files.pythonhosted.org/packages/ea/bc/da526221bc111857c7ef39c3af670bbcf5e69c247b0d22e51986f6d0c5c2/numpy-1.19.5-cp36-cp36m-win_amd64.whl\n",
      "Installing collected packages: numpy, pyarrow\n",
      "  Found existing installation: numpy 1.19.5\n",
      "    Uninstalling numpy-1.19.5:\n",
      "      Successfully uninstalled numpy-1.19.5\n",
      "  Found existing installation: pyarrow 6.0.1\n",
      "    Uninstalling pyarrow-6.0.1:\n",
      "      Successfully uninstalled pyarrow-6.0.1\n"
     ]
    },
    {
     "name": "stderr",
     "output_type": "stream",
     "text": [
      "distributed 1.21.8 requires msgpack, which is not installed.\n",
      "pydeck 0.6.2 has requirement jinja2>=2.10.1, but you'll have jinja2 2.10 which is incompatible.\n",
      "Could not install packages due to an EnvironmentError: [WinError 5] Access is denied: 'C:\\\\Users\\\\teja\\\\AppData\\\\Local\\\\Temp\\\\pip-uninstall-3cm7moca\\\\users\\\\teja\\\\anaconda3\\\\lib\\\\site-packages\\\\pyarrow\\\\arrow.dll'\n",
      "Consider using the `--user` option or check the permissions.\n",
      "\n",
      "You are using pip version 10.0.1, however version 21.3.1 is available.\n",
      "You should consider upgrading via the 'python -m pip install --upgrade pip' command.\n"
     ]
    }
   ],
   "source": [
    "# !pip install --upgrade --force-reinstall pyarrow\n"
   ]
  },
  {
   "cell_type": "code",
   "execution_count": 24,
   "metadata": {
    "id": "IdR3MIMnvfoN"
   },
   "outputs": [
    {
     "ename": "NameError",
     "evalue": "name 'calories_data' is not defined",
     "output_type": "error",
     "traceback": [
      "\u001b[1;31m---------------------------------------------------------------------------\u001b[0m",
      "\u001b[1;31mNameError\u001b[0m                                 Traceback (most recent call last)",
      "\u001b[1;32m<ipython-input-24-21743a086b4e>\u001b[0m in \u001b[0;36m<module>\u001b[1;34m()\u001b[0m\n\u001b[0;32m     10\u001b[0m \u001b[1;31m# Adding noise by randomly perturbing the values\u001b[0m\u001b[1;33m\u001b[0m\u001b[1;33m\u001b[0m\u001b[0m\n\u001b[0;32m     11\u001b[0m \u001b[1;32mfor\u001b[0m \u001b[0mcol\u001b[0m \u001b[1;32min\u001b[0m \u001b[0mnumerical_cols\u001b[0m\u001b[1;33m:\u001b[0m\u001b[1;33m\u001b[0m\u001b[0m\n\u001b[1;32m---> 12\u001b[1;33m     \u001b[0mnoise\u001b[0m \u001b[1;33m=\u001b[0m \u001b[0mnp\u001b[0m\u001b[1;33m.\u001b[0m\u001b[0mrandom\u001b[0m\u001b[1;33m.\u001b[0m\u001b[0mnormal\u001b[0m\u001b[1;33m(\u001b[0m\u001b[0mloc\u001b[0m\u001b[1;33m=\u001b[0m\u001b[1;36m0\u001b[0m\u001b[1;33m,\u001b[0m \u001b[0mscale\u001b[0m\u001b[1;33m=\u001b[0m\u001b[0mnoise_level\u001b[0m \u001b[1;33m*\u001b[0m \u001b[0mcalories_data\u001b[0m\u001b[1;33m[\u001b[0m\u001b[0mcol\u001b[0m\u001b[1;33m]\u001b[0m\u001b[1;33m.\u001b[0m\u001b[0mstd\u001b[0m\u001b[1;33m(\u001b[0m\u001b[1;33m)\u001b[0m\u001b[1;33m,\u001b[0m \u001b[0msize\u001b[0m\u001b[1;33m=\u001b[0m\u001b[0mcalories_data\u001b[0m\u001b[1;33m[\u001b[0m\u001b[0mcol\u001b[0m\u001b[1;33m]\u001b[0m\u001b[1;33m.\u001b[0m\u001b[0mshape\u001b[0m\u001b[1;33m)\u001b[0m\u001b[1;33m\u001b[0m\u001b[0m\n\u001b[0m\u001b[0;32m     13\u001b[0m     \u001b[0mcalories_data\u001b[0m\u001b[1;33m[\u001b[0m\u001b[0mcol\u001b[0m\u001b[1;33m]\u001b[0m \u001b[1;33m=\u001b[0m \u001b[0mcalories_data\u001b[0m\u001b[1;33m[\u001b[0m\u001b[0mcol\u001b[0m\u001b[1;33m]\u001b[0m \u001b[1;33m+\u001b[0m \u001b[0mnoise\u001b[0m\u001b[1;33m\u001b[0m\u001b[0m\n\u001b[0;32m     14\u001b[0m \u001b[1;33m\u001b[0m\u001b[0m\n",
      "\u001b[1;31mNameError\u001b[0m: name 'calories_data' is not defined"
     ]
    }
   ],
   "source": [
    "# import numpy as np\n",
    "\n",
    "# # Adding noise to the numerical columns (Duration, Age, Weight, Height, etc.)\n",
    "# # Define the level of noise (percentage of original value)\n",
    "# noise_level = 0.40 # Adjust this value to increase/decrease noise\n",
    "\n",
    "# # Apply noise to selected numerical columns\n",
    "# numerical_cols = ['Duration', 'Age', 'Weight', 'Height', 'Heart_Rate', 'Body_Temp']\n",
    "\n",
    "# # Adding noise by randomly perturbing the values\n",
    "# for col in numerical_cols:\n",
    "#     noise = np.random.normal(loc=0, scale=noise_level * calories_data[col].std(), size=calories_data[col].shape)\n",
    "#     calories_data[col] = calories_data[col] + noise\n",
    "\n",
    "# # Display the head of the DataFrame to see the noise-added data\n",
    "# calories_data.head()"
   ]
  },
  {
   "cell_type": "code",
   "execution_count": 2,
   "metadata": {},
   "outputs": [
    {
     "name": "stdout",
     "output_type": "stream",
     "text": [
      "C:\\Users\\teja\n"
     ]
    }
   ],
   "source": [
    "# import os\n",
    "\n",
    "# notebook_path = os.getcwd()\n",
    "# print(notebook_path)"
   ]
  },
  {
   "cell_type": "code",
   "execution_count": 3,
   "metadata": {},
   "outputs": [
    {
     "name": "stdout",
     "output_type": "stream",
     "text": [
      "C:\\Users\\teja\n"
     ]
    }
   ],
   "source": [
    "# import os\n",
    "# current_directory = os.getcwd()\n",
    "# print(current_directory)\n"
   ]
  },
  {
   "cell_type": "code",
   "execution_count": null,
   "metadata": {},
   "outputs": [],
   "source": []
  }
 ],
 "metadata": {
  "colab": {
   "provenance": []
  },
  "kernelspec": {
   "display_name": "Python 3",
   "language": "python",
   "name": "python3"
  },
  "language_info": {
   "codemirror_mode": {
    "name": "ipython",
    "version": 3
   },
   "file_extension": ".py",
   "mimetype": "text/x-python",
   "name": "python",
   "nbconvert_exporter": "python",
   "pygments_lexer": "ipython3",
   "version": "3.6.5"
  }
 },
 "nbformat": 4,
 "nbformat_minor": 1
}
